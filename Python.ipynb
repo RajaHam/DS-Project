{
 "cells": [
  {
   "cell_type": "code",
   "execution_count": null,
   "id": "4fee8155",
   "metadata": {},
   "outputs": [],
   "source": []
  },
  {
   "cell_type": "code",
   "execution_count": null,
   "id": "f4f18035",
   "metadata": {},
   "outputs": [],
   "source": []
  },
  {
   "cell_type": "code",
   "execution_count": null,
   "id": "06c0e5f7",
   "metadata": {},
   "outputs": [],
   "source": []
  },
  {
   "cell_type": "code",
   "execution_count": null,
   "id": "c286f43a",
   "metadata": {},
   "outputs": [],
   "source": []
  },
  {
   "cell_type": "code",
   "execution_count": null,
   "id": "eff154b1",
   "metadata": {},
   "outputs": [],
   "source": []
  },
  {
   "cell_type": "code",
   "execution_count": null,
   "id": "d6eeb94e",
   "metadata": {},
   "outputs": [],
   "source": []
  },
  {
   "cell_type": "code",
   "execution_count": null,
   "id": "59b80cf1",
   "metadata": {},
   "outputs": [],
   "source": []
  },
  {
   "cell_type": "code",
   "execution_count": 11,
   "id": "489e3b7c",
   "metadata": {},
   "outputs": [
    {
     "name": "stdout",
     "output_type": "stream",
     "text": [
      "2022-01-01 12:12:28.428666\n"
     ]
    }
   ],
   "source": [
    "import datetime \n",
    "    \n",
    "current_time = datetime.datetime.now() \n",
    "print (current_time) "
   ]
  },
  {
   "cell_type": "code",
   "execution_count": 12,
   "id": "fe8af06a",
   "metadata": {},
   "outputs": [
    {
     "name": "stdout",
     "output_type": "stream",
     "text": [
      "Input Your NameRajaHammad\n",
      "Majeed\n"
     ]
    }
   ],
   "source": [
    "name=input(\"Input Your Name\");\n",
    "print(name);"
   ]
  },
  {
   "cell_type": "code",
   "execution_count": 21,
   "id": "48570d4b",
   "metadata": {},
   "outputs": [
    {
     "name": "stdout",
     "output_type": "stream",
     "text": [
      "Inter First Number56\n",
      "Input Second number09\n",
      "Result 65\n"
     ]
    }
   ],
   "source": [
    "x=input(\"Inter First Number\");\n",
    "y=input(\"Input Second number\");\n",
    "z=int(x)+int(y);\n",
    "print(\"Result\" ,z);"
   ]
  },
  {
   "cell_type": "code",
   "execution_count": 22,
   "id": "9b449392",
   "metadata": {},
   "outputs": [
    {
     "name": "stdout",
     "output_type": "stream",
     "text": [
      "('Raja', 'Hammad', 'aaa')\n"
     ]
    }
   ],
   "source": [
    "z= (\"Raja\",\"Hammad\",\"aaa\" );\n",
    "print(z);"
   ]
  },
  {
   "cell_type": "code",
   "execution_count": 25,
   "id": "4d9147c5",
   "metadata": {},
   "outputs": [
    {
     "name": "stdout",
     "output_type": "stream",
     "text": [
      "twinkle,twinkle,little star,\n"
     ]
    }
   ],
   "source": [
    "A=(\"twinkle,twinkle,little star,\");\n",
    "print(A);"
   ]
  },
  {
   "cell_type": "code",
   "execution_count": 26,
   "id": "189d8331",
   "metadata": {},
   "outputs": [
    {
     "name": "stdout",
     "output_type": "stream",
     "text": [
      "Twinkle,twinkle,little star,\n",
      "       How I wonder what you are!\n",
      "               Up above the world so high,\n",
      "               Like a diamound in the sky,\n",
      "Twinkle,twinkle,little star,\n",
      "       How I wonder what you are!\n"
     ]
    }
   ],
   "source": [
    "A=(\"Twinkle,twinkle,little star,\");\n",
    "B=(\"       How I wonder what you are!\");\n",
    "C=(\"               Up above the world so high,\");\n",
    "D=(\"               Like a diamound in the sky,\");\n",
    "\n",
    "print(A);\n",
    "print(B);\n",
    "print(C);\n",
    "print(D);\n",
    "print(A);\n",
    "print(B);"
   ]
  },
  {
   "cell_type": "code",
   "execution_count": 27,
   "id": "290f50d8",
   "metadata": {},
   "outputs": [
    {
     "name": "stdout",
     "output_type": "stream",
     "text": [
      "3.9.7 (default, Sep 16 2021, 16:59:28) [MSC v.1916 64 bit (AMD64)]\n"
     ]
    }
   ],
   "source": [
    "import sys\n",
    "print(sys.version)"
   ]
  },
  {
   "cell_type": "code",
   "execution_count": 33,
   "id": "4bfec118",
   "metadata": {},
   "outputs": [
    {
     "name": "stdout",
     "output_type": "stream",
     "text": [
      "Input the radius of the circle : 45\n",
      "The area of the circle with radius 45.0 is: 6361.725123519331\n"
     ]
    }
   ],
   "source": [
    "from math import pi\n",
    "radius = float(input (\"Input the radius of the circle : \"))\n",
    "print (\"The area of the circle with radius \" + str(radius) + \" is: \" + str(pi * radius**2))"
   ]
  },
  {
   "cell_type": "code",
   "execution_count": 31,
   "id": "f3a3f6ad",
   "metadata": {},
   "outputs": [
    {
     "name": "stdout",
     "output_type": "stream",
     "text": [
      "Input your First Name : Raja\n",
      "Input your Last Name : Hammad\n",
      "Hello  Hammad Raja\n"
     ]
    }
   ],
   "source": [
    "firstname = input(\"Input your First Name : \")\n",
    "lastname = input(\"Input your Last Name : \")\n",
    "print (\"Hello  \" + lastname + \" \" + firstname)"
   ]
  },
  {
   "cell_type": "code",
   "execution_count": null,
   "id": "7fa253fc",
   "metadata": {},
   "outputs": [],
   "source": []
  },
  {
   "cell_type": "code",
   "execution_count": null,
   "id": "f8d6f725",
   "metadata": {},
   "outputs": [],
   "source": []
  }
 ],
 "metadata": {
  "kernelspec": {
   "display_name": "Python 3 (ipykernel)",
   "language": "python",
   "name": "python3"
  },
  "language_info": {
   "codemirror_mode": {
    "name": "ipython",
    "version": 3
   },
   "file_extension": ".py",
   "mimetype": "text/x-python",
   "name": "python",
   "nbconvert_exporter": "python",
   "pygments_lexer": "ipython3",
   "version": "3.9.7"
  }
 },
 "nbformat": 4,
 "nbformat_minor": 5
}
